{
 "cells": [
  {
   "cell_type": "code",
   "execution_count": 2,
   "metadata": {},
   "outputs": [
    {
     "name": "stderr",
     "output_type": "stream",
     "text": [
      "C:\\Users\\guoxu\\AppData\\Local\\Packages\\PythonSoftwareFoundation.Python.3.10_qbz5n2kfra8p0\\LocalCache\\local-packages\\Python310\\site-packages\\tqdm\\auto.py:22: TqdmWarning: IProgress not found. Please update jupyter and ipywidgets. See https://ipywidgets.readthedocs.io/en/stable/user_install.html\n",
      "  from .autonotebook import tqdm as notebook_tqdm\n"
     ]
    }
   ],
   "source": [
    "import torch\n",
    "import torch.nn as nn\n",
    "from torchvision.transforms import transforms\n",
    "import numpy as np\n",
    "from torch.autograd import Variable\n",
    "from torchvision.models import squeezenet1_1\n",
    "import torch.functional as F\n",
    "from io import open\n",
    "import os\n",
    "from PIL import Image\n",
    "import pathlib\n",
    "import glob\n",
    "import cv2"
   ]
  },
  {
   "cell_type": "code",
   "execution_count": 5,
   "metadata": {},
   "outputs": [],
   "source": [
    "#Transforms\n",
    "transformer=transforms.Compose([\n",
    "    transforms.Resize((150,150)),\n",
    "    transforms.RandomHorizontalFlip(),\n",
    "    transforms.ToTensor(),  #0-255 to 0-1, numpy to tensors\n",
    "    transforms.Normalize([0.5,0.5,0.5], # 0-1 to [-1,1] , formula (x-mean)/std\n",
    "                        [0.5,0.5,0.5])\n",
    "])"
   ]
  },
  {
   "cell_type": "code",
   "execution_count": 7,
   "metadata": {},
   "outputs": [
    {
     "ename": "NameError",
     "evalue": "name 'DataLoader' is not defined",
     "output_type": "error",
     "traceback": [
      "\u001b[1;31m---------------------------------------------------------------------------\u001b[0m",
      "\u001b[1;31mNameError\u001b[0m                                 Traceback (most recent call last)",
      "\u001b[1;32mc:\\Users\\guoxu\\Desktop\\spis final project\\4.0\\main.ipynb Cell 3\u001b[0m in \u001b[0;36m<cell line: 7>\u001b[1;34m()\u001b[0m\n\u001b[0;32m      <a href='vscode-notebook-cell:/c%3A/Users/guoxu/Desktop/spis%20final%20project/4.0/main.ipynb#W4sZmlsZQ%3D%3D?line=3'>4</a>\u001b[0m train_path\u001b[39m=\u001b[39m\u001b[39m'\u001b[39m\u001b[39mv_data\u001b[39m\u001b[39m\\t\u001b[39;00m\u001b[39mrain\u001b[39m\u001b[39m'\u001b[39m\n\u001b[0;32m      <a href='vscode-notebook-cell:/c%3A/Users/guoxu/Desktop/spis%20final%20project/4.0/main.ipynb#W4sZmlsZQ%3D%3D?line=4'>5</a>\u001b[0m test_path\u001b[39m=\u001b[39m\u001b[39m'\u001b[39m\u001b[39mv_data\u001b[39m\u001b[39m\\t\u001b[39;00m\u001b[39mest\u001b[39m\u001b[39m'\u001b[39m\n\u001b[1;32m----> <a href='vscode-notebook-cell:/c%3A/Users/guoxu/Desktop/spis%20final%20project/4.0/main.ipynb#W4sZmlsZQ%3D%3D?line=6'>7</a>\u001b[0m train_loader\u001b[39m=\u001b[39mDataLoader(\n\u001b[0;32m      <a href='vscode-notebook-cell:/c%3A/Users/guoxu/Desktop/spis%20final%20project/4.0/main.ipynb#W4sZmlsZQ%3D%3D?line=7'>8</a>\u001b[0m     torchvision\u001b[39m.\u001b[39mdatasets\u001b[39m.\u001b[39mImageFolder(train_path,transform\u001b[39m=\u001b[39mtransformer),\n\u001b[0;32m      <a href='vscode-notebook-cell:/c%3A/Users/guoxu/Desktop/spis%20final%20project/4.0/main.ipynb#W4sZmlsZQ%3D%3D?line=8'>9</a>\u001b[0m     batch_size\u001b[39m=\u001b[39m\u001b[39m64\u001b[39m, shuffle\u001b[39m=\u001b[39m\u001b[39mTrue\u001b[39;00m\n\u001b[0;32m     <a href='vscode-notebook-cell:/c%3A/Users/guoxu/Desktop/spis%20final%20project/4.0/main.ipynb#W4sZmlsZQ%3D%3D?line=9'>10</a>\u001b[0m )\n\u001b[0;32m     <a href='vscode-notebook-cell:/c%3A/Users/guoxu/Desktop/spis%20final%20project/4.0/main.ipynb#W4sZmlsZQ%3D%3D?line=10'>11</a>\u001b[0m test_loader\u001b[39m=\u001b[39mDataLoader(\n\u001b[0;32m     <a href='vscode-notebook-cell:/c%3A/Users/guoxu/Desktop/spis%20final%20project/4.0/main.ipynb#W4sZmlsZQ%3D%3D?line=11'>12</a>\u001b[0m     torchvision\u001b[39m.\u001b[39mdatasets\u001b[39m.\u001b[39mImageFolder(test_path,transform\u001b[39m=\u001b[39mtransformer),\n\u001b[0;32m     <a href='vscode-notebook-cell:/c%3A/Users/guoxu/Desktop/spis%20final%20project/4.0/main.ipynb#W4sZmlsZQ%3D%3D?line=12'>13</a>\u001b[0m     batch_size\u001b[39m=\u001b[39m\u001b[39m32\u001b[39m, shuffle\u001b[39m=\u001b[39m\u001b[39mTrue\u001b[39;00m\n\u001b[0;32m     <a href='vscode-notebook-cell:/c%3A/Users/guoxu/Desktop/spis%20final%20project/4.0/main.ipynb#W4sZmlsZQ%3D%3D?line=13'>14</a>\u001b[0m )\n",
      "\u001b[1;31mNameError\u001b[0m: name 'DataLoader' is not defined"
     ]
    }
   ],
   "source": [
    "#Dataloader\n",
    "\n",
    "#Path for training and testing directory\n",
    "train_path='v_data\\train'\n",
    "test_path='v_data\\test'\n",
    "\n",
    "train_loader=DataLoader(\n",
    "    torchvision.datasets.ImageFolder(train_path,transform=transformer),\n",
    "    batch_size=64, shuffle=True\n",
    ")\n",
    "test_loader=DataLoader(\n",
    "    torchvision.datasets.ImageFolder(test_path,transform=transformer),\n",
    "    batch_size=32, shuffle=True\n",
    ")"
   ]
  },
  {
   "cell_type": "code",
   "execution_count": null,
   "metadata": {},
   "outputs": [],
   "source": []
  },
  {
   "cell_type": "code",
   "execution_count": null,
   "metadata": {},
   "outputs": [],
   "source": []
  }
 ],
 "metadata": {
  "kernelspec": {
   "display_name": "Python 3.10.6 64-bit (windows store)",
   "language": "python",
   "name": "python3"
  },
  "language_info": {
   "codemirror_mode": {
    "name": "ipython",
    "version": 3
   },
   "file_extension": ".py",
   "mimetype": "text/x-python",
   "name": "python",
   "nbconvert_exporter": "python",
   "pygments_lexer": "ipython3",
   "version": "3.10.6"
  },
  "orig_nbformat": 4,
  "vscode": {
   "interpreter": {
    "hash": "b8a0fd89fa3b7b8a220fc1a353ad5b38c56b4bc771de7d12928e6d42d76f9862"
   }
  }
 },
 "nbformat": 4,
 "nbformat_minor": 2
}
